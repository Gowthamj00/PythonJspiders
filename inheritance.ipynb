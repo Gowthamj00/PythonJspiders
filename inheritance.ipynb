{
 "cells": [
  {
   "cell_type": "code",
   "execution_count": null,
   "id": "228befdd",
   "metadata": {},
   "outputs": [
    {
     "name": "stdout",
     "output_type": "stream",
     "text": [
      "Name:Gowtham Jami\n",
      "Age:23\n",
      "Email:gowthamjami86@gmail.com\n",
      "SSC:88\n",
      "Inter:91\n",
      "UG Marks:84\n",
      "Skills:['Python', 'Html & Css', 'Oracle']\n",
      "PG Marks:87\n",
      "Certifications:['Python Certification', 'Html & Css Certification', 'SQL Certification']\n",
      "projects:['TMG', 'File Handling']\n"
     ]
    }
   ],
   "source": [
    "#MultiLevel Inheritance\n",
    "class Resume:\n",
    "    qualfication='12 th standard'\n",
    "\n",
    "    def __init__(self,sname,age,email,ssc_marks,inter_marks):\n",
    "        self.sname=sname\n",
    "        self.age=age\n",
    "        self.email=email\n",
    "        self.ssc_marks=ssc_marks\n",
    "        self.inter_marks=inter_marks\n",
    "\n",
    "    def summary(self):\n",
    "        return f'''Name:{self.sname}\n",
    "Age:{self.age}\n",
    "Email:{self.email}\n",
    "SSC:{self.ssc_marks}\n",
    "Inter:{self.inter_marks}'''\n",
    "    \n",
    "class Resume_ug(Resume):\n",
    "    qualfication='UG'\n",
    "\n",
    "    def __init__(self, sname, age, email, ssc_marks, inter_marks,ug_marks,skills):\n",
    "        super().__init__(sname, age, email, ssc_marks, inter_marks)\n",
    "        self.ug_marks=ug_marks\n",
    "        self.skills=skills\n",
    "\n",
    "    def summary(self):\n",
    "        print(super().summary())\n",
    "        return f'''UG Marks:{self.ug_marks}\n",
    "Skills:{self.skills}'''\n",
    "    \n",
    "class Resume_pg(Resume_ug):\n",
    "    qualfication='PG'\n",
    "\n",
    "    def __init__(self, sname, age, email, ssc_marks, inter_marks, ug_marks, skills,pg_marks,certifications,projects):\n",
    "        super().__init__(sname, age, email, ssc_marks, inter_marks, ug_marks, skills)\n",
    "        self.pg_marks=pg_marks\n",
    "        self.certifications=certifications\n",
    "        self.projects=projects\n",
    "\n",
    "    def summary(self):\n",
    "        print(super().summary())\n",
    "        print(f'''PG Marks:{self.pg_marks}\n",
    "Certifications:{self.certifications}\n",
    "projects:{self.projects}''')\n",
    "        \n",
    "r1=Resume_pg('Gowtham Jami',23,'gowthamjami86@gmail.com',88,91,84,['Python','Html & Css','Oracle'],87,['Python Certification','Html & Css Certification','SQL Certification'],['TMG','File Handling'])\n",
    "r1.summary()\n",
    "\n"
   ]
  },
  {
   "cell_type": "code",
   "execution_count": null,
   "id": "ba9e9b99",
   "metadata": {},
   "outputs": [
    {
     "name": "stdout",
     "output_type": "stream",
     "text": [
      "The vehicle is a Ground mode and It is a type of Personal vehicle..\n",
      "And It is from Ferrari Company, Where the model of the vehicle is 700 C2\n",
      "And this runs with Diesel with a mileage of 16 km per litre , and a speed limit of 300 km\n"
     ]
    }
   ],
   "source": [
    "#Multi Level Inheritance Example\n",
    "class Vehicle():\n",
    "    mode='Ground'\n",
    "\n",
    "    def __init__(self,type):\n",
    "        self.type=type\n",
    "\n",
    "    def moving(self):\n",
    "        print(f'The vehicle is a {Vehicle.mode} mode and It is a type of {self.type} vehicle..')\n",
    "\n",
    "class Car(Vehicle):\n",
    "\n",
    "    def __init__(self, type, brand, model):\n",
    "        super().__init__(type)\n",
    "        self.brand=brand\n",
    "        self.model=model\n",
    "    \n",
    "    def moving(self):\n",
    "        super().moving()\n",
    "        print(f'And It is from {self.brand} Company, Where the model of the vehicle is {self.model}')\n",
    "\n",
    "class Dcar(Car):\n",
    "\n",
    "    def __init__(self, type, brand, model, mileage, speedlimit, fueltype):\n",
    "        super().__init__(type, brand, model)\n",
    "        self.mileage=mileage\n",
    "        self.speedlimit=speedlimit\n",
    "        self.fueltype=fueltype\n",
    "    \n",
    "    def moving(self):\n",
    "        super().moving()\n",
    "        print(f'And this runs with {self.fueltype} with a mileage of {self.mileage} per litre , and a speed limit of {self.speedlimit}')\n",
    "\n",
    "c1=Dcar('Personal','Ferrari','700 C2','16 km','300 km','Diesel')\n",
    "c1.moving()\n"
   ]
  }
 ],
 "metadata": {
  "kernelspec": {
   "display_name": "Python 3",
   "language": "python",
   "name": "python3"
  },
  "language_info": {
   "codemirror_mode": {
    "name": "ipython",
    "version": 3
   },
   "file_extension": ".py",
   "mimetype": "text/x-python",
   "name": "python",
   "nbconvert_exporter": "python",
   "pygments_lexer": "ipython3",
   "version": "3.12.3"
  }
 },
 "nbformat": 4,
 "nbformat_minor": 5
}
